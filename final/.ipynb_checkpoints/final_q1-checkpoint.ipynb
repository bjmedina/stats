{
 "cells": [
  {
   "cell_type": "code",
   "execution_count": 1,
   "metadata": {},
   "outputs": [],
   "source": [
    "%load_ext rpy2.ipython"
   ]
  },
  {
   "cell_type": "code",
   "execution_count": 25,
   "metadata": {},
   "outputs": [
    {
     "data": {
      "text/plain": [
       " [1] \"age\"       \"job\"       \"marital\"   \"education\" \"default\"   \"balance\"  \n",
       " [7] \"housing\"   \"loan\"      \"contact\"   \"day\"       \"month\"     \"duration\" \n",
       "[13] \"campaign\"  \"pdays\"     \"previous\"  \"poutcome\"  \"y\"        \n"
      ]
     },
     "metadata": {},
     "output_type": "display_data"
    }
   ],
   "source": [
    "%%R\n",
    "# load the data\n",
    "df = read.csv(\"bank_data.csv\")\n",
    "\n",
    "set.seed(005)\n",
    "\n",
    "# 80/20 split for test-val split\n",
    "smp_size <- floor(0.80 * nrow(df))\n",
    "\n",
    "# The test-val split\n",
    "train_sample = sample(1:nrow(df), size=smp_size, replace=FALSE)\n",
    "test_sample  = setdiff(1:nrow(df), train_sample)\n",
    "\n",
    "df_train = df[train_sample,]\n",
    "df_val   = df[test_sample,]\n",
    "\n",
    "print(colnames(df))"
   ]
  },
  {
   "cell_type": "markdown",
   "metadata": {},
   "source": [
    "### a)"
   ]
  },
  {
   "cell_type": "code",
   "execution_count": 30,
   "metadata": {},
   "outputs": [
    {
     "data": {
      "text/plain": [
       "[1] \"Full Model----------\"\n",
       "\n",
       "Call:\n",
       "glm(formula = y ~ ., family = binomial(link = \"logit\"), data = df_train)\n",
       "\n",
       "Deviance Residuals: \n",
       "    Min       1Q   Median       3Q      Max  \n",
       "-4.9573  -0.6524   0.0303   0.6485   2.1855  \n",
       "\n",
       "Coefficients:\n",
       "                     Estimate Std. Error z value Pr(>|z|)    \n",
       "(Intercept)        -3.739e-01  1.071e+00  -0.349  0.72703    \n",
       "age                -1.188e-03  1.271e-02  -0.093  0.92553    \n",
       "jobblue-collar     -7.888e-01  3.978e-01  -1.983  0.04738 *  \n",
       "jobentrepreneur     7.945e-02  6.113e-01   0.130  0.89659    \n",
       "jobhousemaid       -8.008e-01  6.698e-01  -1.196  0.23187    \n",
       "jobmanagement      -2.348e-01  4.189e-01  -0.561  0.57508    \n",
       "jobretired          2.299e-01  5.258e-01   0.437  0.66191    \n",
       "jobself-employed   -5.957e-01  5.716e-01  -1.042  0.29735    \n",
       "jobservices        -6.232e-01  4.843e-01  -1.287  0.19816    \n",
       "jobstudent          7.522e-02  6.303e-01   0.119  0.90501    \n",
       "jobtechnician      -4.379e-01  3.860e-01  -1.134  0.25661    \n",
       "jobunemployed      -7.141e-01  6.854e-01  -1.042  0.29741    \n",
       "jobunknown          8.642e-01  1.034e+00   0.836  0.40325    \n",
       "maritalmarried     -2.889e-01  3.217e-01  -0.898  0.36923    \n",
       "maritalsingle      -1.174e-01  3.838e-01  -0.306  0.75961    \n",
       "educationsecondary -2.006e-01  3.341e-01  -0.600  0.54829    \n",
       "educationtertiary   1.648e-01  3.928e-01   0.420  0.67473    \n",
       "educationunknown   -6.142e-01  6.260e-01  -0.981  0.32657    \n",
       "defaultyes          1.477e+00  8.207e-01   1.800  0.07187 .  \n",
       "balance            -1.271e-05  3.295e-05  -0.386  0.69960    \n",
       "housingyes         -1.491e-01  2.235e-01  -0.667  0.50482    \n",
       "loanyes            -9.807e-01  3.576e-01  -2.743  0.00610 ** \n",
       "contacttelephone   -1.180e-01  3.906e-01  -0.302  0.76249    \n",
       "contactunknown     -1.315e+00  3.278e-01  -4.011 6.05e-05 ***\n",
       "day                 1.776e-02  1.320e-02   1.346  0.17842    \n",
       "monthaug           -2.460e-01  4.072e-01  -0.604  0.54578    \n",
       "monthdec           -1.969e-01  1.153e+00  -0.171  0.86441    \n",
       "monthfeb           -1.414e-01  4.680e-01  -0.302  0.76248    \n",
       "monthjan           -1.654e+00  6.612e-01  -2.501  0.01238 *  \n",
       "monthjul           -7.058e-01  4.171e-01  -1.692  0.09061 .  \n",
       "monthjun            8.240e-02  4.772e-01   0.173  0.86292    \n",
       "monthmar            1.815e+00  7.622e-01   2.382  0.01724 *  \n",
       "monthmay           -6.110e-01  4.007e-01  -1.525  0.12729    \n",
       "monthnov           -5.890e-01  4.355e-01  -1.353  0.17617    \n",
       "monthoct            3.648e+00  1.157e+00   3.154  0.00161 ** \n",
       "monthsep            1.017e+00  7.673e-01   1.325  0.18504    \n",
       "duration            5.117e-03  4.301e-04  11.895  < 2e-16 ***\n",
       "campaign           -6.264e-02  5.044e-02  -1.242  0.21426    \n",
       "pdays               3.508e-04  1.650e-03   0.213  0.83162    \n",
       "previous           -3.579e-02  8.812e-02  -0.406  0.68464    \n",
       "poutcomeother       5.276e-01  4.704e-01   1.122  0.26199    \n",
       "poutcomesuccess     2.540e+00  6.360e-01   3.994 6.51e-05 ***\n",
       "poutcomeunknown    -4.965e-01  5.900e-01  -0.842  0.40006    \n",
       "---\n",
       "Signif. codes:  0 ‘***’ 0.001 ‘**’ 0.01 ‘*’ 0.05 ‘.’ 0.1 ‘ ’ 1\n",
       "\n",
       "(Dispersion parameter for binomial family taken to be 1)\n",
       "\n",
       "    Null deviance: 1154.58  on 832  degrees of freedom\n",
       "Residual deviance:  697.91  on 790  degrees of freedom\n",
       "AIC: 783.91\n",
       "\n",
       "Number of Fisher Scoring iterations: 6\n",
       "\n",
       "[1] \"Reduced Model----------\"\n",
       "\n",
       "Call:\n",
       "glm(formula = y ~ contact + poutcome + duration + loan, family = binomial(link = \"logit\"), \n",
       "    data = df_train)\n",
       "\n",
       "Deviance Residuals: \n",
       "    Min       1Q   Median       3Q      Max  \n",
       "-4.9987  -0.7684   0.0456   0.7824   2.4831  \n",
       "\n",
       "Coefficients:\n",
       "                   Estimate Std. Error z value Pr(>|z|)    \n",
       "(Intercept)      -1.1359463  0.2595412  -4.377 1.20e-05 ***\n",
       "contacttelephone  0.0579890  0.3154919   0.184  0.85417    \n",
       "contactunknown   -1.4297656  0.2513761  -5.688 1.29e-08 ***\n",
       "poutcomeother     0.5876847  0.4251308   1.382  0.16686    \n",
       "poutcomesuccess   2.5702229  0.5738417   4.479 7.50e-06 ***\n",
       "poutcomeunknown  -0.3850935  0.2600450  -1.481  0.13864    \n",
       "duration          0.0046329  0.0003991  11.608  < 2e-16 ***\n",
       "loanyes          -0.9514031  0.3131532  -3.038  0.00238 ** \n",
       "---\n",
       "Signif. codes:  0 ‘***’ 0.001 ‘**’ 0.01 ‘*’ 0.05 ‘.’ 0.1 ‘ ’ 1\n",
       "\n",
       "(Dispersion parameter for binomial family taken to be 1)\n",
       "\n",
       "    Null deviance: 1154.58  on 832  degrees of freedom\n",
       "Residual deviance:  793.73  on 825  degrees of freedom\n",
       "AIC: 809.73\n",
       "\n",
       "Number of Fisher Scoring iterations: 5\n",
       "\n"
      ]
     },
     "metadata": {},
     "output_type": "display_data"
    }
   ],
   "source": [
    "%%R\n",
    "# learn model with all features\n",
    "log_reg <- glm(y ~ ., family=binomial(link='logit'), data=df_train)\n",
    "print(\"Full Model----------\")\n",
    "print(summary(log_reg))\n",
    "\n",
    "# making predictions for validation set using full model\n",
    "full_val_predict = predict(log_reg, newdata=df_val)\n",
    "\n",
    "\n",
    "# learn reduced model\n",
    "log_red <- glm(y ~ contact + poutcome + duration + loan, family=binomial(link='logit'), data=df_train)\n",
    "print(\"Reduced Model----------\")\n",
    "print(summary(log_red))\n",
    "\n",
    "red_val_predict = predict(log_red, newdata=df_val)\n"
   ]
  },
  {
   "cell_type": "code",
   "execution_count": 37,
   "metadata": {},
   "outputs": [
    {
     "data": {
      "image/png": "[encoded data removed]"
     },
     "metadata": {},
     "output_type": "display_data"
    }
   ],
   "source": [
    "%%R\n",
    "library(pROC)\n",
    "\n",
    "# plotting ROC curves\n",
    "roc_full_train   = roc(df_train$y, log_reg$fitted.values, plot=TRUE, print.auc=TRUE, \n",
    "               col=\"purple\", lwd =4, legacy.axes=TRUE, main=\"ROC Curves Full and Reduced\")\n",
    "\n",
    "# plotting the roc on val set\n",
    "roc_full_val = roc(df_val$y, full_val_predict, plot=TRUE, print.auc=TRUE, col=\"blue\",\n",
    "               lwd = 4, print.auc.y=0.45, legacy.axes=TRUE, add=TRUE)\n",
    "\n",
    "# plotting ROC curves\n",
    "roc_red_train   = roc(df_train$y, log_red$fitted.values, plot=TRUE, print.auc=TRUE, \n",
    "               col=\"red\", lwd =4, print.auc.y=0.4,legacy.axes=TRUE, add=TRUE)\n",
    "\n",
    "# plotting the roc on val set\n",
    "roc_red_val = roc(df_val$y, red_val_predict, plot=TRUE, print.auc=TRUE, col=\"orange\",\n",
    "               lwd = 4, print.auc.y=0.35, legacy.axes=TRUE, add=TRUE)\n",
    "\n",
    "legend(\"bottomright\", legend=c(\"Full Model-Training\",\n",
    "                              \"Full Model-Validation\",\n",
    "                              \"Reduced Model-Training\",\n",
    "                              \"Reduced Model-Validation\"), \n",
    "       col=c(\"purple\", \"blue\", \"red\", \"orange\"), lwd=4)"
   ]
  },
  {
   "cell_type": "markdown",
   "metadata": {},
   "source": [
    "- __Comment on the degree of overfitting that you observe.__\n",
    "    - For the Full model, the model seems to be performing very well. The model seems to do better on the validation set than the test set (due to the higher AUC)\n",
    "    - For the reduced model, the model seems to also perform well, with a _slightly_ higher AUC on the val set.\n",
    "- __Compare the performance of the full and reduced model on the validation set.__\n",
    "    - Both models do not seem to overfit too much, with the full model doing on a bit better than the reduced model."
   ]
  },
  {
   "cell_type": "markdown",
   "metadata": {},
   "source": [
    "### b)"
   ]
  },
  {
   "cell_type": "code",
   "execution_count": 40,
   "metadata": {},
   "outputs": [],
   "source": [
    "%%R\n",
    "library(\"glmnet\")"
   ]
  },
  {
   "cell_type": "code",
   "execution_count": 56,
   "metadata": {},
   "outputs": [
    {
     "name": "stdout",
     "output_type": "stream",
     "text": [
      "\n",
      "Error in as.matrix(as.numeric(df_train[, !names(df_train) %in% c(\"y\")])) : \n",
      "  (list) object cannot be coerced to type 'double'\n"
     ]
    },
    {
     "name": "stderr",
     "output_type": "stream",
     "text": [
      "/home/bjm/anaconda3/envs/stats/lib/python3.6/site-packages/rpy2/rinterface/__init__.py:146: RRuntimeWarning: Error in as.matrix(as.numeric(df_train[, !names(df_train) %in% c(\"y\")])) : \n",
      "  (list) object cannot be coerced to type 'double'\n",
      "\n",
      "  warnings.warn(x, RRuntimeWarning)\n"
     ]
    }
   ],
   "source": [
    "%%R\n",
    "Y_train = as.matrix(df_train[\"y\"])\n",
    "X_train = as.matrix(df_train[ ,!names(df_train) %in% c(\"y\")])\n",
    "\n",
    "Y_val = as.matrix(df_val[\"y\"])\n",
    "X_val = as.matrix(df_val[ ,!names(df_val) %in% c(\"y\")])\n",
    "\n",
    "g_lasso = cv.glmnet(x=X_train, y=Y_train, family=\"binomial\", alpha=1)\n",
    "print(g_lasso)"
   ]
  },
  {
   "cell_type": "code",
   "execution_count": null,
   "metadata": {},
   "outputs": [],
   "source": []
  }
 ],
 "metadata": {
  "kernelspec": {
   "display_name": "Python 3",
   "language": "python",
   "name": "python3"
  },
  "language_info": {
   "codemirror_mode": {
    "name": "ipython",
    "version": 3
   },
   "file_extension": ".py",
   "mimetype": "text/x-python",
   "name": "python",
   "nbconvert_exporter": "python",
   "pygments_lexer": "ipython3",
   "version": "3.6.8"
  }
 },
 "nbformat": 4,
 "nbformat_minor": 4
}
