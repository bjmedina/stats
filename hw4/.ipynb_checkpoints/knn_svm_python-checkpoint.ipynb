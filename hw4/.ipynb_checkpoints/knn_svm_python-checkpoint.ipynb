{
 "cells": [
  {
   "cell_type": "markdown",
   "metadata": {},
   "source": [
    "# K Nearest Neighbors and SVM\n",
    "\n",
    "This notebook will examine KNN and SVM classification for the Heart dataset.\n",
    "\n",
    "## Loading and Preparing the Data\n",
    "\n",
    "First let's load the data into a `pandas` dataframe (similar to the R dataframe) and format the categorical variables."
   ]
  },
  {
   "cell_type": "code",
   "execution_count": 189,
   "metadata": {},
   "outputs": [
    {
     "name": "stdout",
     "output_type": "stream",
     "text": [
      "   age  sex  cp  trestbps  chol  fbs  restecg  thalach  exang  oldpeak  slope  \\\n",
      "0   63    1   3       145   233    1        0      150      0      2.3      0   \n",
      "1   37    1   2       130   250    0        1      187      0      3.5      0   \n",
      "2   41    0   1       130   204    0        0      172      0      1.4      2   \n",
      "3   56    1   1       120   236    0        1      178      0      0.8      2   \n",
      "4   57    0   0       120   354    0        1      163      1      0.6      2   \n",
      "\n",
      "   ca  thal  target  \n",
      "0   0     1       1  \n",
      "1   0     2       1  \n",
      "2   0     2       1  \n",
      "3   0     2       1  \n",
      "4   0     2       1  \n"
     ]
    }
   ],
   "source": [
    "import pandas as pd\n",
    "import numpy as np\n",
    "import matplotlib.pyplot as plt\n",
    "\n",
    "# read in data\n",
    "heart_df = pd.read_csv('heart.csv')\n",
    "print(heart_df.head())"
   ]
  },
  {
   "cell_type": "code",
   "execution_count": 190,
   "metadata": {},
   "outputs": [
    {
     "name": "stdout",
     "output_type": "stream",
     "text": [
      "   age  trestbps  chol  thalach  oldpeak  sex_1  cp_1  cp_2  cp_3  fbs_1  ...  \\\n",
      "0   63       145   233      150      2.3      1     0     0     1      1  ...   \n",
      "1   37       130   250      187      3.5      1     0     1     0      0  ...   \n",
      "2   41       130   204      172      1.4      0     1     0     0      0  ...   \n",
      "3   56       120   236      178      0.8      1     1     0     0      0  ...   \n",
      "4   57       120   354      163      0.6      0     0     0     0      0  ...   \n",
      "\n",
      "   exang_1  slope_1  slope_2  ca_1  ca_2  ca_3  ca_4  thal_1  thal_2  thal_3  \n",
      "0        0        0        0     0     0     0     0       1       0       0  \n",
      "1        0        0        0     0     0     0     0       0       1       0  \n",
      "2        0        0        1     0     0     0     0       0       1       0  \n",
      "3        0        0        1     0     0     0     0       0       1       0  \n",
      "4        1        0        1     0     0     0     0       0       1       0  \n",
      "\n",
      "[5 rows x 22 columns]\n"
     ]
    }
   ],
   "source": [
    "# convert columns to categorical\n",
    "# df[name] similar to the df$name notation\n",
    "for col_name in ['sex', 'cp', 'fbs', 'restecg', 'exang', 'slope', 'ca', 'thal', 'target']:\n",
    "    heart_df[col_name] = heart_df[col_name].astype('category')\n",
    "\n",
    "# split into target vector and feature matrix (split X and Y)\n",
    "heart_feats = heart_df.drop(columns=['target'])\n",
    "heart_target = np.array(heart_df['target'])\n",
    "\n",
    "# convert category variables to dummy variable encoding (similar to the model.matrix())\n",
    "# can use drop_first=True in get_dummies to get rid of redundant first encoding\n",
    "heart_feats = pd.get_dummies(heart_feats, drop_first=True)\n",
    "print(heart_feats.head())\n",
    "\n",
    "# split into training and test set\n",
    "from sklearn.model_selection import train_test_split\n",
    "feat_train, feat_test, resp_train, resp_test = train_test_split(heart_feats, heart_target, test_size=0.25)"
   ]
  },
  {
   "cell_type": "code",
   "execution_count": 191,
   "metadata": {},
   "outputs": [],
   "source": [
    "# scale columns (important for both KNN and SVM)\n",
    "from sklearn.preprocessing import StandardScaler\n",
    "scaler = StandardScaler()\n",
    "\n",
    "# get mean and standard deviation for each column according to train data\n",
    "scaler.fit(feat_train)\n",
    "# scale columns of train and test data\n",
    "feat_train = scaler.transform(feat_train)\n",
    "feat_test = scaler.transform(feat_test)"
   ]
  },
  {
   "cell_type": "markdown",
   "metadata": {},
   "source": [
    "## Basic KNN classifier\n",
    "\n",
    "We will do a KNN classifier with a fixed number of 5 neighbors first."
   ]
  },
  {
   "cell_type": "code",
   "execution_count": 192,
   "metadata": {},
   "outputs": [
    {
     "name": "stdout",
     "output_type": "stream",
     "text": [
      "Accuracy: 0.8552631578947368\n"
     ]
    }
   ],
   "source": [
    "from sklearn.neighbors import KNeighborsClassifier\n",
    "knn_clf = KNeighborsClassifier(n_neighbors=5)\n",
    "knn_clf.fit(feat_train, resp_train)\n",
    "\n",
    "resp_pred = knn_clf.predict(feat_test)\n",
    "print('Accuracy:', np.sum(resp_pred == resp_test)/len(resp_pred))"
   ]
  },
  {
   "cell_type": "markdown",
   "metadata": {},
   "source": [
    "## Cross Validation for KNN\n",
    "\n",
    "Now we will do cross-validation to choose the optimal value of `k`."
   ]
  },
  {
   "cell_type": "code",
   "execution_count": 193,
   "metadata": {},
   "outputs": [
    {
     "data": {
      "image/png": "[encoded data removed]",
      "text/plain": [
       "<Figure size 432x288 with 1 Axes>"
      ]
     },
     "metadata": {
      "needs_background": "light"
     },
     "output_type": "display_data"
    },
    {
     "name": "stdout",
     "output_type": "stream",
     "text": [
      "Best k: 48\n"
     ]
    }
   ],
   "source": [
    "# empty containers for CV errors\n",
    "cv_errors = []\n",
    "\n",
    "# set up code for 5-fold cv\n",
    "from sklearn.model_selection import KFold\n",
    "n_folds = 20\n",
    "max_neighbors = 100\n",
    "\n",
    "# loop over number of neighbors k\n",
    "for k in range(1, max_neighbors):\n",
    "    # 10-fold cross validation for each k\n",
    "    kf = KFold(n_splits=n_folds)\n",
    "    # container for errors for each fold\n",
    "    fold_errors = np.zeros(n_folds)\n",
    "    \n",
    "    # loop over folds\n",
    "    for fold_num, (cv_train, cv_test) in enumerate(kf.split(feat_train)):\n",
    "        # split into cv train and test set\n",
    "        cv_feat_train = feat_train[cv_train]\n",
    "        cv_resp_train = resp_train[cv_train]\n",
    "        cv_feat_test = feat_train[cv_test]\n",
    "        cv_resp_test = resp_train[cv_test]\n",
    "        \n",
    "        # make cv model\n",
    "        cv_knn_clf = KNeighborsClassifier(n_neighbors=k)\n",
    "        cv_knn_clf.fit(cv_feat_train, cv_resp_train)\n",
    "        \n",
    "        # get cv accuracy for this fold\n",
    "        cv_resp_pred = cv_knn_clf.predict(cv_feat_test)\n",
    "        fold_errors[fold_num] = np.sum(cv_resp_pred == cv_resp_test) / len(cv_resp_pred)\n",
    "        \n",
    "    cv_errors += [np.mean(fold_errors)]\n",
    "    \n",
    "plt.plot(np.arange(1, max_neighbors), cv_errors)\n",
    "plt.xlabel('nearest neighbors k')\n",
    "plt.ylabel('Cross-validation accuracy')\n",
    "plt.show()\n",
    "        \n",
    "best_k = np.argmax(np.array(cv_errors)) + 1\n",
    "print('Best k:', best_k)"
   ]
  },
  {
   "cell_type": "code",
   "execution_count": 194,
   "metadata": {},
   "outputs": [
    {
     "name": "stdout",
     "output_type": "stream",
     "text": [
      "Accuracy: 0.8552631578947368\n"
     ]
    }
   ],
   "source": [
    "knn_clf_best_k = KNeighborsClassifier(n_neighbors=best_k)\n",
    "knn_clf_best_k.fit(feat_train, resp_train)\n",
    "\n",
    "resp_pred_best_k = knn_clf_best_k.predict(feat_test)\n",
    "print('Accuracy:', np.sum(resp_pred_best_k == resp_test)/len(resp_pred))"
   ]
  },
  {
   "cell_type": "markdown",
   "metadata": {},
   "source": [
    "## Support Vector Machines\n",
    "\n",
    "We will now look at how to use support vector machines."
   ]
  },
  {
   "cell_type": "code",
   "execution_count": 195,
   "metadata": {},
   "outputs": [
    {
     "name": "stdout",
     "output_type": "stream",
     "text": [
      "[ 1.32564451e+00  9.44648447e-01  2.31529201e-01  1.32095924e+00\n",
      "  4.49534442e-01  1.36842033e+00  1.30162412e+00  1.06004176e+00\n",
      " -5.70661795e-01  9.01819975e-01 -4.67201387e-03 -1.09263796e+00\n",
      "  1.68551658e-01  5.27687845e-01 -7.31286614e-01 -1.74925388e+00\n",
      " -3.22485236e-01  1.56875896e+00 -6.96378858e-01  1.39935548e+00\n",
      "  1.33778403e+00  1.80019357e+00 -1.38770756e+00  3.05389889e-02\n",
      " -9.54731397e-01  7.20603292e-01  1.69095952e+00 -9.48740423e-01\n",
      " -1.99817560e+00 -8.20456866e-01  8.95879362e-01  5.61243136e-01\n",
      "  1.52924617e+00  9.12138499e-01  1.59473835e+00  1.17693499e+00\n",
      "  8.73642323e-02 -1.43950980e+00  2.60841921e-01 -1.01032833e+00\n",
      "  1.25749641e-02  1.45558846e+00  1.26956090e+00 -5.78876656e-04\n",
      " -8.48004624e-01  7.76726197e-01 -1.20968592e+00  1.36630609e+00\n",
      " -6.38356493e-01 -9.24081911e-01  1.73251603e+00 -1.96466723e-01\n",
      " -9.91267896e-01 -6.39538160e-01 -6.27151593e-01  1.65729893e+00\n",
      " -6.36075870e-02  5.18372487e-02  9.41339238e-01 -2.55224840e-01\n",
      "  7.44076472e-02 -2.03618058e+00 -1.91903960e+00  1.74338039e+00\n",
      " -1.26845359e+00  1.21729100e+00  8.49625320e-01  1.52193352e-01\n",
      "  6.80833244e-01 -8.73838602e-01 -2.05516930e+00  1.31606817e+00\n",
      " -1.18253745e+00 -6.68929570e-01  8.11845778e-01 -4.85936712e-01]\n"
     ]
    }
   ],
   "source": [
    "from sklearn import svm\n",
    "\n",
    "# Linear SVM (C is the cost parameter for violating constraints, can tune with cross-val)\n",
    "# tuning C with cross-validation will probably give better results!\n",
    "svm_lin = svm.SVC(C=1.0).fit(feat_train, resp_train)\n",
    "\n",
    "# get the value of the linear predictor beta_0 + beta_1 X_1 + ... + beta_p X_p\n",
    "# standard prediction uses the threshold 0 (corresponding to the decision boundary)\n",
    "# in general, can use other thresholds, just like for logistic regression/LDA/QDA/etc.\n",
    "scores_svm_lin = svm_lin.decision_function(feat_test)\n",
    "print(scores_svm_lin)"
   ]
  },
  {
   "cell_type": "code",
   "execution_count": 196,
   "metadata": {},
   "outputs": [],
   "source": [
    "# now let's make non-linear SVMs\n",
    "\n",
    "# svm with polynomial kernel\n",
    "# degree is the degree of the polynomial\n",
    "# coef0 gives the value of the constant added to the polynomial kernel (usually use 1)\n",
    "# tune degree by cross-validation for better results\n",
    "svm_poly = svm.SVC(C=1.0, kernel='poly', degree=3, coef0=1).fit(feat_train, resp_train)\n",
    "scores_svm_poly = svm_poly.decision_function(feat_test)\n",
    "\n",
    "# svm with gaussian kernel\n",
    "# degree is the degree of the polynomial\n",
    "# gamma gives size of radius for gaussian kernel (tune with cross-val)\n",
    "svm_gauss = svm.SVC(C=1.0, kernel='rbf', gamma=0.01).fit(feat_train, resp_train)\n",
    "scores_svm_gauss = svm_gauss.decision_function(feat_test)"
   ]
  },
  {
   "cell_type": "code",
   "execution_count": 197,
   "metadata": {},
   "outputs": [
    {
     "data": {
      "text/plain": [
       "<matplotlib.legend.Legend at 0x11a3a4970>"
      ]
     },
     "execution_count": 197,
     "metadata": {},
     "output_type": "execute_result"
    },
    {
     "data": {
      "image/png": "[encoded data removed]",
      "text/plain": [
       "<Figure size 432x288 with 1 Axes>"
      ]
     },
     "metadata": {
      "needs_background": "light"
     },
     "output_type": "display_data"
    }
   ],
   "source": [
    "# make roc curve\n",
    "from sklearn.metrics import roc_curve, auc\n",
    "\n",
    "# metrics for linear svm\n",
    "fpr_lin, tpr_lin, _ = roc_curve(resp_test, scores_svm_lin)\n",
    "auc_lin = auc(fpr_lin, tpr_lin)\n",
    "\n",
    "# metrics for polynomial svm\n",
    "fpr_poly, tpr_poly, _ = roc_curve(resp_test, scores_svm_poly)\n",
    "auc_poly = auc(fpr_poly, tpr_poly)\n",
    "\n",
    "# metrics for gaussian svm\n",
    "fpr_gauss, tpr_gauss, _ = roc_curve(resp_test, scores_svm_gauss)\n",
    "auc_gauss = auc(fpr_gauss, tpr_gauss)\n",
    "\n",
    "# plot the info\n",
    "plt.plot(fpr_lin, tpr_lin, label='Lin. AUC: {0:0.2f}'.format(auc_lin))\n",
    "plt.plot(fpr_poly, tpr_poly, label='Poly. AUC: {0:0.2f}'.format(auc_poly))\n",
    "plt.plot(fpr_gauss, tpr_gauss, label='Gauss. AUC: {0:0.2f}'.format(auc_gauss))\n",
    "plt.xlabel('False Positive Rate')\n",
    "plt.ylabel('True Positive Rate')\n",
    "plt.title('ROC for different SVMs')\n",
    "plt.legend(loc='lower right')"
   ]
  },
  {
   "cell_type": "code",
   "execution_count": null,
   "metadata": {},
   "outputs": [],
   "source": []
  }
 ],
 "metadata": {
  "kernelspec": {
   "display_name": "Python 3",
   "language": "python",
   "name": "python3"
  },
  "language_info": {
   "codemirror_mode": {
    "name": "ipython",
    "version": 3
   },
   "file_extension": ".py",
   "mimetype": "text/x-python",
   "name": "python",
   "nbconvert_exporter": "python",
   "pygments_lexer": "ipython3",
   "version": "3.6.8"
  }
 },
 "nbformat": 4,
 "nbformat_minor": 4
}
