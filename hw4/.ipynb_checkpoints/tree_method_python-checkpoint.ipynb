{
 "cells": [
  {
   "cell_type": "markdown",
   "metadata": {},
   "source": [
    "# Tree Methods in Python\n",
    "\n",
    "This notebook will examine Decision Trees, Random Forests, and Gradient Boosting in Python. We will look at classification and regression problems.\n",
    "\n",
    "## Classification with Tree Methods\n",
    "\n",
    "We will once again use the Heart dataset to learn and evaluate classification models. First we will prepare the data."
   ]
  },
  {
   "cell_type": "code",
   "execution_count": 71,
   "metadata": {},
   "outputs": [],
   "source": [
    "import pandas as pd\n",
    "import numpy as np\n",
    "import matplotlib.pyplot as plt\n",
    "\n",
    "# read in data\n",
    "heart_df = pd.read_csv('heart.csv')\n",
    "\n",
    "# convert columns to categorical\n",
    "# df[name] similar to the df$name notation\n",
    "for col_name in ['sex', 'cp', 'fbs', 'restecg', 'exang', 'slope', 'ca', 'thal', 'target']:\n",
    "    heart_df[col_name] = heart_df[col_name].astype('category')\n",
    "\n",
    "# split into target vector and feature matrix (split X and Y)\n",
    "heart_feats = heart_df.drop(columns=['target'])\n",
    "heart_target = np.array(heart_df['target'])\n",
    "\n",
    "# convert category variables to dummy variable encoding (similar to the model.matrix())\n",
    "# can use drop_first=True in get_dummies to get rid of redundant first encoding\n",
    "heart_feats = pd.get_dummies(heart_feats, drop_first=True)\n",
    "\n",
    "# split into training and test set (scikitlearn)\n",
    "from sklearn.model_selection import train_test_split\n",
    "feat_train, feat_test, resp_train, resp_test =\\\n",
    "    train_test_split(heart_feats, heart_target, test_size=0.25, random_state=123)\n",
    "\n",
    "# scale columns (mean 0, var 1)\n",
    "from sklearn.preprocessing import StandardScaler\n",
    "scaler = StandardScaler()\n",
    "\n",
    "# get mean and standard deviation for each column according to train data\n",
    "scaler.fit(feat_train)\n",
    "# scale columns of train and test data\n",
    "feat_train = scaler.transform(feat_train)\n",
    "feat_test = scaler.transform(feat_test)"
   ]
  },
  {
   "cell_type": "markdown",
   "metadata": {},
   "source": [
    "### Classification Decision Trees\n",
    "\n",
    "Decision trees are the basis of tree-based methods, but they often don't perform too well on their own. Still, it is instructive to look at their performance in comparison to better methods."
   ]
  },
  {
   "cell_type": "code",
   "execution_count": 72,
   "metadata": {},
   "outputs": [
    {
     "name": "stdout",
     "output_type": "stream",
     "text": [
      "Accuracy for unpruned tree: 0.6973684210526315\n",
      "Accuracy for pruned tree: 0.7631578947368421\n",
      "Number of nodes in unpruned tree: 83\n",
      "Number of nodes in pruned tree: 3\n"
     ]
    }
   ],
   "source": [
    "from sklearn.tree import DecisionTreeClassifier\n",
    "\n",
    "# fit an unpruned tree with at most 2 observations in each node region, Gini index splits\n",
    "unpruned_tree = DecisionTreeClassifier(criterion=\"gini\", min_samples_split=3)\n",
    "unpruned_tree = unpruned_tree.fit(feat_train, resp_train)\n",
    "# predictions for test data\n",
    "unpruned_preds = unpruned_tree.predict(feat_test)\n",
    "unpruned_acc = np.sum(unpruned_preds == resp_test) / len(resp_test)\n",
    "print('Accuracy for unpruned tree:', unpruned_acc)\n",
    "\n",
    "# fit pruned tree with cost penalty alpha |T|, where alpha = 0.1\n",
    "pruned_tree = DecisionTreeClassifier(criterion=\"gini\", ccp_alpha=0.1)\n",
    "pruned_tree = pruned_tree.fit(feat_train, resp_train)\n",
    "# predictions for test data\n",
    "pruned_preds = pruned_tree.predict(feat_test)\n",
    "pruned_acc = np.sum(pruned_preds == resp_test) / len(resp_test)\n",
    "print('Accuracy for pruned tree:', pruned_acc)\n",
    "\n",
    "# compare size of pruned and unpruned trees\n",
    "print('Number of nodes in unpruned tree:', unpruned_tree.tree_.node_count)\n",
    "print('Number of nodes in pruned tree:', pruned_tree.tree_.node_count)"
   ]
  },
  {
   "cell_type": "markdown",
   "metadata": {},
   "source": [
    "### Classification with Random Forests\n",
    "\n",
    "We will now examine the same problem using a random forest classifier. Recall that random forest uses bagging (bootstrapping of original training set to create alterred training sets) and feature restriction (only a certain number of columns are considered for each split) to help grow many parallel decision trees that are averaged to get a final ensemble tree."
   ]
  },
  {
   "cell_type": "code",
   "execution_count": 73,
   "metadata": {},
   "outputs": [
    {
     "name": "stdout",
     "output_type": "stream",
     "text": [
      "Accuracy for Random Forest with 100 trees: 0.75\n",
      "Accuracy for Random Forest with 1000 trees: 0.7894736842105263\n"
     ]
    }
   ],
   "source": [
    "from sklearn.ensemble import RandomForestClassifier\n",
    "\n",
    "# fit a random forest tree with 100 trees\n",
    "# by default, will consider sqrt(p) features at each split, where p is number of cols of feat_train\n",
    "rf100 = RandomForestClassifier(n_estimators=100, random_state=123)\n",
    "rf100 = rf100.fit(feat_train, resp_train)\n",
    "# predictions for test data\n",
    "rf100_preds = rf100.predict(feat_test)\n",
    "rf100_acc = np.sum(rf100_preds == resp_test) / len(resp_test)\n",
    "print('Accuracy for Random Forest with 100 trees:', rf100_acc)\n",
    "\n",
    "# fit a random forest tree with 1000 trees\n",
    "rf1000 = RandomForestClassifier(n_estimators=1000, random_state=123)\n",
    "rf1000 = rf1000.fit(feat_train, resp_train)\n",
    "# predictions for test data\n",
    "rf1000_preds = rf1000.predict(feat_test)\n",
    "rf1000_acc = np.sum(rf1000_preds == resp_test) / len(resp_test)\n",
    "print('Accuracy for Random Forest with 1000 trees:', rf1000_acc)"
   ]
  },
  {
   "cell_type": "markdown",
   "metadata": {},
   "source": [
    "### Gradient Boosted Decision Trees with XGBoost\n",
    "\n",
    "For the final classifier, we will examine Gradient Boosted Decision Trees using the XGBoost package. The XGBoost packages is a very popular and highly optimized framework for gradient boosting. The XGBoost functions are built on top the the scikit-learn function structures that we have already seen so the implementation is the same as before.\n",
    "\n",
    "To load the XGboost packages, open the terminal (Mac or Linux) or the Anaconda Prompt (Windows) and type the command\n",
    "\n",
    "`conda install -c conda-forge xgboost`\n",
    "\n",
    "hit Enter, then enter `y` when prompted."
   ]
  },
  {
   "cell_type": "code",
   "execution_count": 74,
   "metadata": {},
   "outputs": [
    {
     "name": "stdout",
     "output_type": "stream",
     "text": [
      "Accuracy for Gradient Boosting with 1000 trees: 0.7631578947368421\n",
      "Accuracy for Gradient Boosting with 1000 trees: 0.7894736842105263\n"
     ]
    }
   ],
   "source": [
    "from xgboost import XGBClassifier\n",
    "\n",
    "# fit a gradient boosted tree with 1000 trees\n",
    "# will use max depth d=1 for each tree, learning rate of 0.01\n",
    "gb1000 = XGBClassifier(n_estimators=1000, max_depth=1, learning_rate=0.01, random_state=123)\n",
    "gb1000 = gb1000.fit(feat_train, resp_train)\n",
    "# predictions for test data\n",
    "gb1000_preds = gb1000.predict(feat_test)\n",
    "gb1000_acc = np.sum(gb1000_preds == resp_test) / len(resp_test)\n",
    "print('Accuracy for Gradient Boosting with 1000 trees:', gb1000_acc)\n",
    "\n",
    "# fit a stochastic gradient boosted tree with 1000 trees\n",
    "# will use 50% of training rows for each tree, 50% of columns for each split\n",
    "gb1000_rand  = XGBClassifier(n_estimators=1000, max_depth=1, learning_rate=0.01, \n",
    "                             subsample=0.5, colsample_bylevel=0.5, random_state=123)\n",
    "gb1000_rand = gb1000_rand.fit(feat_train, resp_train)\n",
    "# predictions for test data\n",
    "gb1000_rand_preds = gb1000_rand.predict(feat_test)\n",
    "gb1000_rand_acc = np.sum(gb1000_rand_preds == resp_test) / len(resp_test)\n",
    "print('Accuracy for Gradient Boosting with 1000 trees:', gb1000_rand_acc)"
   ]
  },
  {
   "cell_type": "markdown",
   "metadata": {},
   "source": [
    "## Examining Important Features\n",
    "\n",
    "You can examine which features in decrease the Gini Index the most. These features are the most important variables. This must be done by hand for random forests, but XGBoost has a built-in function that can be used for plotting."
   ]
  },
  {
   "cell_type": "code",
   "execution_count": 75,
   "metadata": {},
   "outputs": [
    {
     "data": {
      "image/png": "[encoded data removed]",
      "text/plain": [
       "<Figure size 432x288 with 1 Axes>"
      ]
     },
     "metadata": {
      "needs_background": "light"
     },
     "output_type": "display_data"
    },
    {
     "data": {
      "image/png": "[encoded data removed]",
      "text/plain": [
       "<Figure size 432x288 with 1 Axes>"
      ]
     },
     "metadata": {
      "needs_background": "light"
     },
     "output_type": "display_data"
    }
   ],
   "source": [
    "# plotting importances for random forests\n",
    "importances = rf1000.feature_importances_\n",
    "std = np.std([tree.feature_importances_ for tree in rf1000.estimators_], axis=0)\n",
    "indices = np.argsort(importances)[::-1]\n",
    "\n",
    "# Plot the impurity-based feature importances of the forest\n",
    "plt.figure()\n",
    "plt.title(\"Feature importances\")\n",
    "plt.bar(range(feat_train.shape[1]), importances[indices],\n",
    "        color=\"r\", yerr=std[indices], align=\"center\")\n",
    "plt.xticks(range(feat_train.shape[1]), indices)\n",
    "plt.xlim([-1, feat_train.shape[1]])\n",
    "plt.title('Feature Importance for Random Forest with 1000 trees')\n",
    "plt.show()\n",
    "\n",
    "# plotting importances for XGBoost\n",
    "from xgboost import plot_importance\n",
    "plot_importance(gb1000_rand)\n",
    "plt.title('Feature Importance for Stochastic Gradient Boosting (Heart Data)')\n",
    "plt.show()"
   ]
  },
  {
   "cell_type": "markdown",
   "metadata": {},
   "source": [
    "## ROC Curves for Tree Classifiers\n",
    "\n",
    "Let's compare a few different tree-based classifiers using ROC curves."
   ]
  },
  {
   "cell_type": "code",
   "execution_count": 76,
   "metadata": {},
   "outputs": [
    {
     "data": {
      "text/plain": [
       "<matplotlib.legend.Legend at 0x1206b47f0>"
      ]
     },
     "execution_count": 76,
     "metadata": {},
     "output_type": "execute_result"
    },
    {
     "data": {
      "image/png": "[encoded data removed]",
      "text/plain": [
       "<Figure size 432x288 with 1 Axes>"
      ]
     },
     "metadata": {
      "needs_background": "light"
     },
     "output_type": "display_data"
    }
   ],
   "source": [
    "# make roc curve\n",
    "from sklearn.metrics import roc_curve, auc\n",
    "\n",
    "# metrics for linear svm\n",
    "pruned_tree_probs = pruned_tree.predict_proba(feat_test)\n",
    "fpr_pruned, tpr_pruned, _ = roc_curve(resp_test, pruned_tree_probs[:,1])\n",
    "auc_pruned = auc(fpr_pruned, tpr_pruned)\n",
    "\n",
    "# metrics for polynomial svm\n",
    "rf1000_probs = rf1000.predict_proba(feat_test)\n",
    "fpr_rf, tpr_rf, _ = roc_curve(resp_test, rf1000_probs[:,1])\n",
    "auc_rf = auc(fpr_rf, tpr_rf)\n",
    "\n",
    "# metrics for gaussian svm\n",
    "gb1000_rand_probs = gb1000_rand.predict_proba(feat_test)\n",
    "fpr_gb, tpr_gb, _ = roc_curve(resp_test, gb1000_rand_probs[:,1])\n",
    "auc_gb = auc(fpr_gb, tpr_gb)\n",
    "\n",
    "# plot the info\n",
    "plt.plot(fpr_pruned, tpr_pruned, label='Pruned AUC: {0:0.2f}'.format(auc_pruned))\n",
    "plt.plot(fpr_rf, tpr_rf, label='Random Forest AUC: {0:0.2f}'.format(auc_rf))\n",
    "plt.plot(fpr_gb, tpr_gb, label='Gradient Boosting AUC: {0:0.2f}'.format(auc_gb))\n",
    "plt.xlabel('False Positive Rate')\n",
    "plt.ylabel('True Positive Rate')\n",
    "plt.title('ROC for different SVMs')\n",
    "plt.legend(loc='lower right')"
   ]
  },
  {
   "cell_type": "markdown",
   "metadata": {},
   "source": [
    "# Tree Methods for Regression\n",
    "\n",
    "We will briefly look at using Gradient Boosted Decision Trees for regressin problems. Other tree algorithms can be implemented in a similar way."
   ]
  },
  {
   "cell_type": "code",
   "execution_count": 77,
   "metadata": {},
   "outputs": [
    {
     "name": "stdout",
     "output_type": "stream",
     "text": [
      "    Income  Limit  Rating  Cards  Age  Education  Gender Student Married  \\\n",
      "0   14.891   3606     283      2   34         11    Male      No     Yes   \n",
      "1  106.025   6645     483      3   82         15  Female     Yes     Yes   \n",
      "2  104.593   7075     514      4   71         11    Male      No      No   \n",
      "3  148.924   9504     681      3   36         11  Female      No      No   \n",
      "4   55.882   4897     357      2   68         16    Male      No     Yes   \n",
      "\n",
      "   Ethnicity  Balance  \n",
      "0  Caucasian      333  \n",
      "1      Asian      903  \n",
      "2      Asian      580  \n",
      "3      Asian      964  \n",
      "4  Caucasian      331  \n"
     ]
    }
   ],
   "source": [
    "# read in data\n",
    "credit_df = pd.read_csv('Credit.csv')\n",
    "\n",
    "# remove row indicator column\n",
    "credit_df = credit_df.drop(columns=['Unnamed: 0'])\n",
    "\n",
    "# print first few rows\n",
    "print(credit_df.head())\n",
    "\n",
    "# convert columns to categorical\n",
    "# df[name] similar to the df$name notation\n",
    "for col_name in ['Gender', 'Student', 'Married', 'Ethnicity']:\n",
    "    credit_df[col_name] = credit_df[col_name].astype('category')\n",
    "    \n",
    "# split into target vector and feature matrix (split X and Y)\n",
    "credit_feats = credit_df.drop(columns=['Balance'])\n",
    "credit_target = np.array(credit_df['Balance'])\n",
    "\n",
    "# convert category variables to dummy variable encoding (similar to the model.matrix())\n",
    "# can use drop_first=True in get_dummies to get rid of redundant first encoding\n",
    "credit_feats = pd.get_dummies(credit_feats, drop_first=True)\n",
    "\n",
    "# split into training and test set (scikitlearn)\n",
    "from sklearn.model_selection import train_test_split\n",
    "feat_train, feat_test, resp_train, resp_test =\\\n",
    "    train_test_split(credit_feats, credit_target, test_size=0.25, random_state=123)\n",
    "\n",
    "# scale columns (mean 0, var 1)\n",
    "from sklearn.preprocessing import StandardScaler\n",
    "scaler = StandardScaler()\n",
    "\n",
    "# get mean and standard deviation for each column according to train data\n",
    "scaler.fit(feat_train)\n",
    "# scale columns of train and test data\n",
    "feat_train = scaler.transform(feat_train)\n",
    "feat_test = scaler.transform(feat_test)"
   ]
  },
  {
   "cell_type": "code",
   "execution_count": 78,
   "metadata": {},
   "outputs": [
    {
     "name": "stdout",
     "output_type": "stream",
     "text": [
      "MSE of Gradient Boosting Tree: 8003.908969444494\n",
      "R^2 of Gradient Boosting Tree: 0.9634945823088873\n"
     ]
    },
    {
     "data": {
      "image/png": "[encoded data removed]",
      "text/plain": [
       "<Figure size 432x288 with 1 Axes>"
      ]
     },
     "metadata": {
      "needs_background": "light"
     },
     "output_type": "display_data"
    }
   ],
   "source": [
    "# make regression gradient boosting decision tree\n",
    "from xgboost import XGBRegressor\n",
    "\n",
    "# fit a stochastic gradient boosted tree with 1000 trees\n",
    "# will use 50% of training rows for each tree, 50% of columns for each split\n",
    "gb1000_credit  = XGBRegressor(n_estimators=1000, max_depth=1, learning_rate=0.1, \n",
    "                              subsample=0.5, colsample_bylevel=0.5, random_state=123)\n",
    "gb1000_credit = gb1000_credit.fit(feat_train, resp_train)\n",
    "# predictions for test data\n",
    "gb1000_credit_preds = gb1000_credit.predict(feat_test)\n",
    "# mse and r^2\n",
    "gb_mse = np.mean((gb1000_credit_preds - resp_test)**2)\n",
    "gb_r2 = 1 - gb_mse / np.var(resp_test)\n",
    "print('MSE of Gradient Boosting Tree:', gb_mse)\n",
    "print('R^2 of Gradient Boosting Tree:', gb_r2)\n",
    "\n",
    "# plot important features\n",
    "plot_importance(gb1000_credit)\n",
    "plt.title('Feature Importance for Stochastic Gradient Boosting (Credit Data)')\n",
    "plt.show()"
   ]
  },
  {
   "cell_type": "code",
   "execution_count": null,
   "metadata": {},
   "outputs": [],
   "source": []
  }
 ],
 "metadata": {
  "kernelspec": {
   "display_name": "Python 3",
   "language": "python",
   "name": "python3"
  },
  "language_info": {
   "codemirror_mode": {
    "name": "ipython",
    "version": 3
   },
   "file_extension": ".py",
   "mimetype": "text/x-python",
   "name": "python",
   "nbconvert_exporter": "python",
   "pygments_lexer": "ipython3",
   "version": "3.6.8"
  }
 },
 "nbformat": 4,
 "nbformat_minor": 4
}
